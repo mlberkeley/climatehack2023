{
 "cells": [
  {
   "cell_type": "markdown",
   "metadata": {},
   "source": [
    "# ClimateHack.AI 2023: Data Exploration\n",
    "\n",
    "Thank you for participating in ClimateHack.AI 2023! \n",
    "\n",
    "Your contributions could help cut carbon emissions by up to 100 kilotonnes per year in Great Britain alone. We look forward to seeing what you build over the course of the competition!\n",
    "\n",
    "As with any machine learning task, the best place to start is by inspecting the data available, and for this competition, we are spoiled for choice!\n",
    "\n",
    "You do not have you use all of the data for this challenge (and in fact, you probably shouldn't!). Having said that, it is up to you to be creative to decide which data sources you actually do want to use and train on!"
   ]
  },
  {
   "cell_type": "markdown",
   "metadata": {},
   "source": [
    "## Prerequisites\n",
    "\n",
    "If you do not have the following Python packages installed, you can uncomment and run the following line to install them with `pip`. "
   ]
  },
  {
   "cell_type": "code",
   "execution_count": null,
   "metadata": {},
   "outputs": [],
   "source": [
    "# %pip install numpy matplotlib zarr xarray ipykernel gcsfs fsspec dask cartopy ocf-blosc2 doxa-cli"
   ]
  },
  {
   "cell_type": "markdown",
   "metadata": {},
   "source": [
    "## Importing packages"
   ]
  },
  {
   "cell_type": "code",
   "execution_count": null,
   "metadata": {},
   "outputs": [],
   "source": [
    "from datetime import datetime, time, timedelta\n",
    "\n",
    "import cartopy.crs as ccrs\n",
    "import matplotlib.pyplot as plt\n",
    "import numpy as np\n",
    "import pandas as pd\n",
    "import xarray as xr\n",
    "from ocf_blosc2 import Blosc2\n",
    "\n",
    "plt.rcParams[\"figure.figsize\"] = (20, 12)"
   ]
  },
  {
   "cell_type": "markdown",
   "metadata": {},
   "source": [
    "## HRV Satellite Imagery\n",
    "\n",
    "One benefit of the Zarr format is that Zarr datasets can be streamed straight from the cloud. While this most likely will not be fast enough in training, it already lets us perform some initial data exploration without having to download entire months of data."
   ]
  },
  {
   "cell_type": "code",
   "execution_count": null,
   "metadata": {},
   "outputs": [],
   "source": [
    "hrv = xr.open_dataset(\n",
    "    \"zip:///::https://huggingface.co/datasets/climatehackai/climatehackai-2023/resolve/main/satellite-hrv/2020/7.zarr.zip\",\n",
    "    engine=\"zarr\",\n",
    "    consolidated=True,\n",
    ")\n",
    "\n",
    "hrv"
   ]
  },
  {
   "cell_type": "markdown",
   "metadata": {},
   "source": [
    "We can use the `.plot()` method to take a look at what the HRV data looks like at a particular moment in time."
   ]
  },
  {
   "cell_type": "code",
   "execution_count": null,
   "metadata": {},
   "outputs": [],
   "source": [
    "hrv[\"data\"].sel(time=\"2020-07-20 10:00\").plot()  # type: ignore"
   ]
  },
  {
   "cell_type": "markdown",
   "metadata": {},
   "source": [
    "A slightly more advanced version of this allows us to draw coastlines on top of the data."
   ]
  },
  {
   "cell_type": "code",
   "execution_count": null,
   "metadata": {},
   "outputs": [],
   "source": [
    "axes = plt.axes(projection=ccrs.Geostationary(central_longitude=9.5))\n",
    "\n",
    "hrv[\"data\"].sel(time=\"2020-07-20 10:00\", channel=\"HRV\").plot.pcolormesh(\n",
    "    ax=axes,\n",
    "    transform=ccrs.Geostationary(central_longitude=9.5),\n",
    "    x=\"x_geostationary\",\n",
    "    y=\"y_geostationary\",\n",
    "    add_colorbar=False,\n",
    ")  # type: ignore\n",
    "\n",
    "axes.coastlines()"
   ]
  },
  {
   "cell_type": "markdown",
   "metadata": {},
   "source": [
    "## Non-HRV Satellite Imagery\n",
    "\n",
    "We can also perform something similar for the non-HRV satellite imagery data."
   ]
  },
  {
   "cell_type": "code",
   "execution_count": null,
   "metadata": {},
   "outputs": [],
   "source": [
    "nonhrv = xr.open_dataset(\n",
    "    \"zip:///::https://huggingface.co/datasets/climatehackai/climatehackai-2023/resolve/main/satellite-nonhrv/2020/7.zarr.zip\",\n",
    "    engine=\"zarr\",\n",
    "    consolidated=True,\n",
    ")\n",
    "\n",
    "nonhrv"
   ]
  },
  {
   "cell_type": "markdown",
   "metadata": {},
   "source": [
    "Notice how the non-HRV satellite imagery data is composed of 11 different channels:"
   ]
  },
  {
   "cell_type": "code",
   "execution_count": null,
   "metadata": {},
   "outputs": [],
   "source": [
    "nonhrv.channel"
   ]
  },
  {
   "cell_type": "markdown",
   "metadata": {},
   "source": [
    "We can select one of these channels (in this case, an infrared one) and plot it in a similar way to the previous example involving HRV data."
   ]
  },
  {
   "cell_type": "code",
   "execution_count": null,
   "metadata": {},
   "outputs": [],
   "source": [
    "nonhrv[\"data\"].sel(time=\"2020-07-20 10:00\", channel=\"IR_016\").plot()  # type: ignore"
   ]
  },
  {
   "cell_type": "markdown",
   "metadata": {},
   "source": [
    "## Weather Forecasts\n",
    "\n",
    "We can also look at the weather forecast dataset by loading and visualising it in a very similar way!\n",
    "\n",
    "As you can see, this dataset is composed of 38 different data variables (many of which correspond to different altitudes), such as for ground temperatures, total precipitation and more. For further information on each of these data variables, check out the data section on the [ClimateHack.AI 2023 competition page](https://doxaai.com/competition/climatehackai-2023/overview)."
   ]
  },
  {
   "cell_type": "code",
   "execution_count": null,
   "metadata": {},
   "outputs": [],
   "source": [
    "nwp = xr.open_dataset(\n",
    "    \"zip:///::https://huggingface.co/datasets/climatehackai/climatehackai-2023/resolve/main/weather/2020/7.zarr.zip\",\n",
    "    engine=\"zarr\",\n",
    "    consolidated=True,\n",
    ")\n",
    "\n",
    "nwp"
   ]
  },
  {
   "cell_type": "markdown",
   "metadata": {},
   "source": [
    "### Ground temperatures\n",
    "\n",
    "Just as with the satellite imagery data, we can also plot individual data variables in the weather forecast dataset. Here, `t_g` corresponds to ground-level temperatures in Kelvin (which we convert to Celsius in the visualisation below)."
   ]
  },
  {
   "cell_type": "code",
   "execution_count": null,
   "metadata": {},
   "outputs": [],
   "source": [
    "axes = plt.axes(projection=ccrs.PlateCarree())\n",
    "\n",
    "(nwp[\"t_g\"].sel(time=\"2020-07-20 10:00\") - 273.15).plot.pcolormesh(\n",
    "    ax=axes,\n",
    "    transform=ccrs.PlateCarree(),\n",
    "    x=\"longitude\",\n",
    "    y=\"latitude\",\n",
    "    add_colorbar=True,\n",
    "    cmap=\"coolwarm\",\n",
    ")  # type: ignore\n",
    "\n",
    "axes.coastlines()"
   ]
  },
  {
   "cell_type": "markdown",
   "metadata": {},
   "source": [
    "### Cloud cover\n",
    "\n",
    "Similarly, we can also look at total cloud cover forecasts (`clct`)."
   ]
  },
  {
   "cell_type": "code",
   "execution_count": null,
   "metadata": {},
   "outputs": [],
   "source": [
    "axes = plt.axes(projection=ccrs.PlateCarree())\n",
    "\n",
    "(nwp[\"clct\"].sel(time=\"2020-07-20 10:00\") - 273.15).plot.pcolormesh(\n",
    "    ax=axes,\n",
    "    transform=ccrs.PlateCarree(),\n",
    "    x=\"longitude\",\n",
    "    y=\"latitude\",\n",
    "    add_colorbar=True,\n",
    ")  # type: ignore\n",
    "\n",
    "axes.coastlines()"
   ]
  },
  {
   "cell_type": "markdown",
   "metadata": {},
   "source": [
    "## All weather variables\n",
    "\n",
    "Here are all the weather variables available in this dataset."
   ]
  },
  {
   "cell_type": "code",
   "execution_count": null,
   "metadata": {},
   "outputs": [],
   "source": [
    "nrows = 8\n",
    "ncols = 5\n",
    "\n",
    "fig, axes = plt.subplots(\n",
    "    nrows=nrows,\n",
    "    ncols=ncols,\n",
    "    figsize=(10, 20),\n",
    "    subplot_kw={\"projection\": ccrs.PlateCarree()},\n",
    ")\n",
    "\n",
    "for i, var in enumerate(nwp.data_vars):\n",
    "    nwp[var].sel(time=\"2020-07-20 10:00\",).plot.pcolormesh(\n",
    "        ax=axes[i // ncols][i % ncols],\n",
    "        transform=ccrs.PlateCarree(),\n",
    "        x=\"longitude\",\n",
    "        y=\"latitude\",\n",
    "        add_colorbar=False,\n",
    "        cmap=\"coolwarm\" if var.split(\"_\")[0] in (\"t\", \"v\", \"u\") else \"viridis\",\n",
    "    )\n",
    "\n",
    "    axes[i // ncols][i % ncols].coastlines()\n",
    "    axes[i // ncols][i % ncols].get_xaxis().set_visible(False)\n",
    "    axes[i // ncols][i % ncols].get_yaxis().set_visible(False)\n",
    "    axes[i // ncols][i % ncols].set_title(var)\n",
    "\n",
    "fig.tight_layout()\n",
    "fig.subplots_adjust(wspace=0.1, hspace=0.1)"
   ]
  },
  {
   "cell_type": "markdown",
   "metadata": {},
   "source": [
    "## Air Quality Forecasts\n",
    "\n",
    "Finally, we can also explore the ECMWF CAMS air quality forecast dataset, which contains a number of data variables related to aerosols in the atmosphere at 8 different levels. There is a lot of aerosol data available, so if you are interested in using the aerosol data as part of your submission, it is worth spending some time to get familiar with the data and figure out which data variables are actually useful to you. For example, not all aerosol types are found in large concentrations over Great Britain, which is our area of interest. "
   ]
  },
  {
   "cell_type": "code",
   "execution_count": null,
   "metadata": {},
   "outputs": [],
   "source": [
    "aerosols = xr.open_dataset(\n",
    "    \"zip:///::https://huggingface.co/datasets/climatehackai/climatehackai-2023/resolve/main/aerosols/2020/7.zarr.zip\",\n",
    "    engine=\"zarr\",\n",
    "    consolidated=True,\n",
    ")\n",
    "\n",
    "aerosols"
   ]
  },
  {
   "cell_type": "code",
   "execution_count": null,
   "metadata": {},
   "outputs": [],
   "source": [
    "aerosols.level"
   ]
  },
  {
   "cell_type": "code",
   "execution_count": null,
   "metadata": {},
   "outputs": [],
   "source": [
    "axes = plt.axes(projection=ccrs.PlateCarree())\n",
    "\n",
    "aerosols[\"pm10_conc\"].sel(time=\"2020-07-20 10:00\", level=1000).plot.pcolormesh(\n",
    "    ax=axes,\n",
    "    transform=ccrs.PlateCarree(),\n",
    "    x=\"longitude\",\n",
    "    y=\"latitude\",\n",
    "    add_colorbar=True,\n",
    ")  # type: ignore\n",
    "\n",
    "axes.coastlines()"
   ]
  },
  {
   "cell_type": "code",
   "execution_count": null,
   "metadata": {},
   "outputs": [],
   "source": [
    "fig, axes = plt.subplots(\n",
    "    nrows=len(aerosols.data_vars),\n",
    "    ncols=len(aerosols.level),\n",
    "    figsize=(15, 28),\n",
    "    subplot_kw={\"projection\": ccrs.PlateCarree()},\n",
    ")\n",
    "\n",
    "for i, var in enumerate(aerosols.data_vars):\n",
    "    for j, level in enumerate(aerosols.level):\n",
    "        aerosols[var].sel(time=\"2020-07-20 10:00\", level=level).plot.pcolormesh(\n",
    "            ax=axes[i][j],\n",
    "            transform=ccrs.PlateCarree(),\n",
    "            x=\"longitude\",\n",
    "            y=\"latitude\",\n",
    "            add_colorbar=False,\n",
    "            cmap=\"viridis\",\n",
    "        )\n",
    "\n",
    "        axes[i][j].coastlines()\n",
    "        axes[i][j].get_xaxis().set_visible(False)\n",
    "        axes[i][j].get_yaxis().set_visible(False)\n",
    "        axes[i][j].set_title(f\"{var} ({int(level)}m)\")\n",
    "\n",
    "fig.tight_layout()\n",
    "fig.subplots_adjust(wspace=0.1, hspace=0.1)"
   ]
  }
 ],
 "metadata": {
  "kernelspec": {
   "display_name": "ml",
   "language": "python",
   "name": "python3"
  },
  "language_info": {
   "codemirror_mode": {
    "name": "ipython",
    "version": 3
   },
   "file_extension": ".py",
   "mimetype": "text/x-python",
   "name": "python",
   "nbconvert_exporter": "python",
   "pygments_lexer": "ipython3",
   "version": "3.10.12"
  }
 },
 "nbformat": 4,
 "nbformat_minor": 2
}
