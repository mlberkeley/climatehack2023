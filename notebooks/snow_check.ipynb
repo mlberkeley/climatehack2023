{
 "cells": [
  {
   "cell_type": "code",
   "execution_count": null,
   "metadata": {},
   "outputs": [],
   "source": [
    "import sys\n",
    "sys.path.append('..')\n",
    "from datetime import datetime\n",
    "from data.random_data import ClimatehackDataset as Dataset\n",
    "from submission.keys import META as META_KEYS, WEATHER as WEATHER_KEYS, NONHRV as NONHRV_KEYS\n",
    "\n",
    "import cv2\n",
    "import numpy as np\n",
    "import matplotlib.pyplot as plt\n",
    "from tqdm import tqdm"
   ]
  },
  {
   "cell_type": "code",
   "execution_count": null,
   "metadata": {},
   "outputs": [],
   "source": [
    "ds = Dataset(\n",
    "    start_date=datetime(2020, 2, 1),\n",
    "    end_date=datetime(2020, 3, 1),\n",
    "    root_dir='/data/climatehack/',\n",
    "    meta_features=META_KEYS,\n",
    "    nonhrv_features=[],\n",
    "    weather_features=WEATHER_KEYS,\n",
    "    future_features=[]\n",
    ")"
   ]
  },
  {
   "cell_type": "code",
   "execution_count": null,
   "metadata": {},
   "outputs": [],
   "source": [
    "nonzero_snow = ds.weather[WEATHER_KEYS.H_SNOW][ds.weather[WEATHER_KEYS.H_SNOW] > 0]\n",
    "\n",
    "plt.hist(nonzero_snow, bins=100)\n",
    "pass"
   ]
  },
  {
   "cell_type": "code",
   "execution_count": null,
   "metadata": {},
   "outputs": [],
   "source": [
    "snow_inds = []\n",
    "for i, (pv, meta, nonhrv, weather, target) in enumerate(tqdm(ds)):\n",
    "    if weather[WEATHER_KEYS.H_SNOW].max() > 0:\n",
    "        snow_inds.append(i)\n",
    "    if len(snow_inds) > 10:\n",
    "        break\n",
    "len(snow_inds)"
   ]
  },
  {
   "cell_type": "code",
   "execution_count": null,
   "metadata": {},
   "outputs": [],
   "source": [
    "i = np.random.choice(snow_inds)\n",
    "pv, meta, nonhrv, weather, target = ds[i]\n",
    "time = datetime.fromtimestamp(meta[META_KEYS.TIME])\n",
    "print(time)\n",
    "all_pv = np.concatenate([pv, target], axis=0)\n",
    "plt.plot(all_pv, 'r')\n",
    "plt.plot(np.arange(6) * 12, weather[WEATHER_KEYS.H_SNOW].numpy().max(axis=(1,2)) * 10, 'b')\n",
    "plt.ylim(0, 1)\n",
    "plt.legend(['PV', 'Snow'])\n",
    "plt.show()"
   ]
  },
  {
   "cell_type": "code",
   "execution_count": null,
   "metadata": {},
   "outputs": [],
   "source": [
    "weather[WEATHER_KEYS.H_SNOW].numpy().max(axis=(1,2))"
   ]
  },
  {
   "cell_type": "code",
   "execution_count": null,
   "metadata": {},
   "outputs": [],
   "source": [
    "plt.figure(figsize=(20, 10))\n",
    "plt.imshow(np.hstack(weather[WEATHER_KEYS.H_SNOW].numpy()))\n",
    "plt.axis('off')"
   ]
  },
  {
   "cell_type": "code",
   "execution_count": null,
   "metadata": {},
   "outputs": [],
   "source": [
    "a = np.random.random((6, 11, 289, 333, 12))"
   ]
  },
  {
   "cell_type": "code",
   "execution_count": null,
   "metadata": {},
   "outputs": [],
   "source": [
    "%%timeit\n",
    "np.isnan(np.dot(a.reshape(-1, ), a.reshape(-1, )))"
   ]
  },
  {
   "cell_type": "code",
   "execution_count": null,
   "metadata": {},
   "outputs": [],
   "source": [
    "%%timeit\n",
    "np.sum(a)"
   ]
  },
  {
   "cell_type": "code",
   "execution_count": null,
   "metadata": {},
   "outputs": [],
   "source": [
    "%%timeit\n",
    "np.min(a)"
   ]
  },
  {
   "cell_type": "code",
   "execution_count": null,
   "metadata": {},
   "outputs": [],
   "source": [
    "%%timeit\n",
    "np.isnan(a).any()"
   ]
  },
  {
   "cell_type": "code",
   "execution_count": null,
   "metadata": {},
   "outputs": [],
   "source": [
    "i = np.unravel_index(np.random.choice(len(a.flatten())), a.shape)\n",
    "a[i] = np.nan"
   ]
  },
  {
   "cell_type": "code",
   "execution_count": null,
   "metadata": {},
   "outputs": [],
   "source": [
    "%%timeit\n",
    "np.isnan(np.dot(a.reshape(-1), a.reshape(-1)))"
   ]
  },
  {
   "cell_type": "code",
   "execution_count": null,
   "metadata": {},
   "outputs": [],
   "source": [
    "%%timeit\n",
    "np.sum(a)"
   ]
  },
  {
   "cell_type": "code",
   "execution_count": null,
   "metadata": {},
   "outputs": [],
   "source": [
    "%%timeit\n",
    "np.min(a)"
   ]
  },
  {
   "cell_type": "code",
   "execution_count": null,
   "metadata": {},
   "outputs": [],
   "source": [
    "%%timeit\n",
    "np.isnan(a).any()"
   ]
  },
  {
   "cell_type": "code",
   "execution_count": null,
   "metadata": {},
   "outputs": [],
   "source": [
    "%%timeit\n",
    "np.isfinite(a.reshape(-1)).all()"
   ]
  },
  {
   "cell_type": "code",
   "execution_count": null,
   "metadata": {},
   "outputs": [],
   "source": []
  },
  {
   "cell_type": "code",
   "execution_count": null,
   "metadata": {},
   "outputs": [],
   "source": [
    "%%timeit\n",
    "any_nans(a.reshape(-1, ))"
   ]
  },
  {
   "cell_type": "code",
   "execution_count": null,
   "metadata": {},
   "outputs": [],
   "source": []
  }
 ],
 "metadata": {
  "kernelspec": {
   "display_name": "climatehack",
   "language": "python",
   "name": "python3"
  },
  "language_info": {
   "codemirror_mode": {
    "name": "ipython",
    "version": 3
   },
   "file_extension": ".py",
   "mimetype": "text/x-python",
   "name": "python",
   "nbconvert_exporter": "python",
   "pygments_lexer": "ipython3",
   "version": "3.11.5"
  }
 },
 "nbformat": 4,
 "nbformat_minor": 2
}
