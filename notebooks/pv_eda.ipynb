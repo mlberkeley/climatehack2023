{
 "cells": [
  {
   "cell_type": "code",
   "execution_count": null,
   "metadata": {},
   "outputs": [],
   "source": [
    "import sys\n",
    "sys.path.append('..')\n",
    "\n",
    "from config import get_config\n",
    "from data.random_data import get_dataloaders\n",
    "from submission.resnet import ResNetPV as Model\n",
    "from util import util\n",
    "import submission.keys as keys\n",
    "\n",
    "import numpy as np\n",
    "import torch\n",
    "import torch.nn as nn\n",
    "from datetime import datetime\n",
    "import matplotlib.pyplot as plt\n",
    "from tqdm import tqdm"
   ]
  },
  {
   "cell_type": "code",
   "execution_count": null,
   "metadata": {},
   "outputs": [],
   "source": [
    "config = get_config('../configs/resnet.yaml', [])\n",
    "ckpt_path = '../ckpts/resnext50_imstoopid.pt.best_ema'\n",
    "\n",
    "config.data.eval_subset_size = 50_000"
   ]
  },
  {
   "cell_type": "code",
   "execution_count": null,
   "metadata": {},
   "outputs": [],
   "source": [
    "device = torch.device(\"cuda\" if torch.cuda.is_available() else \"cpu\")\n",
    "\n",
    "model = Model(config.model.config).to(device)\n",
    "model.load_state_dict(torch.load(ckpt_path))\n",
    "model.eval()\n",
    "dataloader = get_dataloaders(\n",
    "    config=config,\n",
    "    meta_features=keys.META,\n",
    "    nonhrv_features=model.REQUIRED_NONHRV,\n",
    "    weather_features=model.REQUIRED_WEATHER,\n",
    "    future_features=None,\n",
    "    load_train=False,\n",
    ")"
   ]
  },
  {
   "cell_type": "markdown",
   "metadata": {},
   "source": [
    "# EDA"
   ]
  },
  {
   "cell_type": "code",
   "execution_count": null,
   "metadata": {},
   "outputs": [],
   "source": [
    "# for i, (pv, meta, nonhrv, weather, target) in enumerate(dataloader):\n",
    "#     for j, key in enumerate(meta[keys.META.TIME]):"
   ]
  },
  {
   "cell_type": "code",
   "execution_count": null,
   "metadata": {},
   "outputs": [],
   "source": [
    "pv_data = dataloader.dataset.pv\n",
    "pv_data"
   ]
  },
  {
   "cell_type": "code",
   "execution_count": null,
   "metadata": {},
   "outputs": [],
   "source": [
    "pv_np = pv_data.to_numpy()\n",
    "pv_ind = pv_data.index.to_numpy()\n",
    "\n",
    "print('a')\n",
    "\n",
    "subset = np.random.randint(0, len(pv_data), 1_000_000)\n",
    "\n",
    "print('b')\n",
    "\n",
    "pv_np = pv_np[subset]\n",
    "pv_ind = pv_ind[subset]"
   ]
  },
  {
   "cell_type": "markdown",
   "metadata": {},
   "source": [
    "## Average daily PV profile"
   ]
  },
  {
   "cell_type": "code",
   "execution_count": null,
   "metadata": {},
   "outputs": [],
   "source": [
    "# iterate over pv_data, a multiindex dataframe\n",
    "ave_profile = np.zeros((24 * 12, ), dtype=np.float32)\n",
    "counts = np.zeros((24 * 12, ), dtype=np.int32)\n",
    "# for (time, ssid), pv in tqdm(pv_shuf[:100_000].iterrows()):\n",
    "for (time, ssid), pv in tqdm(zip(pv_ind, pv_np), total=len(pv_np)):\n",
    "    i = time.hour * 12 + time.minute // 5\n",
    "    ave_profile[i] += pv\n",
    "    counts[i] += 1\n",
    "ave_profile /= counts\n",
    "\n",
    "def smooth(x, window_size=12):\n",
    "    return np.convolve(x, np.ones(window_size)/window_size, mode='same')\n",
    "\n",
    "smoothed_ave = smooth(ave_profile)\n",
    "\n",
    "\n",
    "plt.figure(figsize=(16, 8))\n",
    "plt.plot(ave_profile, label='Average', color='red')\n",
    "plt.plot(smoothed_ave, label='Smooted', color='blue')\n",
    "plt.title('Average PV profile')\n",
    "# xticks\n",
    "plt.xticks(np.arange(0, 24 * 12, 12), [f'{i}:00' for i in range(24)], rotation=45)\n",
    "plt.grid()\n",
    "plt.ylim(0, 1)"
   ]
  },
  {
   "cell_type": "code",
   "execution_count": null,
   "metadata": {},
   "outputs": [],
   "source": [
    "profiles = np.zeros((12, 24 * 12, ), dtype=np.float32)\n",
    "countss = np.zeros((12, 24 * 12, ), dtype=np.int32)\n",
    "for (time, ssid), pv in tqdm(zip(pv_ind, pv_np), total=len(pv_np)):\n",
    "    m = time.month - 1\n",
    "    i = time.hour * 12 + time.minute // 5\n",
    "    profiles[m, i] += pv\n",
    "    countss[m, i] += 1\n",
    "profiles /= countss\n",
    "\n",
    "MONTHS = ['Jan', 'Feb', 'Mar', 'Apr', 'May', 'Jun', 'Jul', 'Aug', 'Sep', 'Oct', 'Nov', 'Dec']\n",
    "plt.figure(figsize=(16, 8))\n",
    "\n",
    "for m in range(12):\n",
    "    plt.plot(profiles[m], color=plt.cm.viridis(m / 11), alpha=0.3)\n",
    "    plt.plot(smooth(profiles[m], 12), label=MONTHS[m], color=plt.cm.viridis(m / 11))\n",
    "    \n",
    "plt.plot(smoothed_ave, label='Average', color='red', linestyle='--')\n",
    "plt.xticks(np.arange(0, 24 * 12, 12), [f'{i}:00' for i in range(24)], rotation=45)\n",
    "plt.grid()\n",
    "plt.ylim(0, 1)\n",
    "plt.title('Average PV profile by month')\n",
    "plt.legend()"
   ]
  },
  {
   "cell_type": "code",
   "execution_count": null,
   "metadata": {},
   "outputs": [],
   "source": [
    "np.save('pv_profiles.npy', profiles)"
   ]
  },
  {
   "cell_type": "code",
   "execution_count": null,
   "metadata": {},
   "outputs": [],
   "source": []
  }
 ],
 "metadata": {
  "kernelspec": {
   "display_name": "climatehack",
   "language": "python",
   "name": "python3"
  },
  "language_info": {
   "codemirror_mode": {
    "name": "ipython",
    "version": 3
   },
   "file_extension": ".py",
   "mimetype": "text/x-python",
   "name": "python",
   "nbconvert_exporter": "python",
   "pygments_lexer": "ipython3",
   "version": "3.11.5"
  }
 },
 "nbformat": 4,
 "nbformat_minor": 2
}
