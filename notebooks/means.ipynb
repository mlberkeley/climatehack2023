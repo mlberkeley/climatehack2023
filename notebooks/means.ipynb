{
 "cells": [
  {
   "cell_type": "code",
   "execution_count": null,
   "metadata": {},
   "outputs": [],
   "source": [
    "import h5py\n",
    "import numpy as np"
   ]
  },
  {
   "cell_type": "code",
   "execution_count": null,
   "metadata": {},
   "outputs": [],
   "source": [
    "ds = h5py.File('/data/climatehack/baked_data.h5', 'r')"
   ]
  },
  {
   "cell_type": "code",
   "execution_count": null,
   "metadata": {},
   "outputs": [],
   "source": [
    "ds['nonhrv'].shape"
   ]
  },
  {
   "cell_type": "code",
   "execution_count": null,
   "metadata": {},
   "outputs": [],
   "source": [
    "sum = np.zeros(11, dtype=np.uint64)\n",
    "sum2 = np.zeros(11, dtype=np.uint64)\n",
    "for chunk in ds['nonhrv'].iter_chunks():\n",
    "    sum[chunk[0]] += ds['nonhrv'][chunk].astype(np.uint64).sum(axis=(1, 2, 3, 4))\n",
    "    sum2[chunk[0]] += (ds['nonhrv'][chunk].astype(np.uint64) ** 2).sum(axis=(1, 2, 3, 4))\n",
    "    # mean += chunk.mean(axis=(0, 1))\n",
    "    # std += chunk.std(axis=(0, 1))\n",
    "sum"
   ]
  },
  {
   "cell_type": "code",
   "execution_count": null,
   "metadata": {},
   "outputs": [],
   "source": [
    "n = 1\n",
    "for i in ds['nonhrv'].shape[1:]:\n",
    "    n *= i\n",
    "n"
   ]
  },
  {
   "cell_type": "code",
   "execution_count": null,
   "metadata": {},
   "outputs": [],
   "source": [
    "mean = sum / n\n",
    "std = np.sqrt(sum2 / n - mean ** 2)\n",
    "mean, std"
   ]
  },
  {
   "cell_type": "code",
   "execution_count": null,
   "metadata": {},
   "outputs": [],
   "source": []
  },
  {
   "cell_type": "code",
   "execution_count": null,
   "metadata": {},
   "outputs": [],
   "source": []
  }
 ],
 "metadata": {
  "kernelspec": {
   "display_name": "climatehack",
   "language": "python",
   "name": "python3"
  },
  "language_info": {
   "codemirror_mode": {
    "name": "ipython",
    "version": 3
   },
   "file_extension": ".py",
   "mimetype": "text/x-python",
   "name": "python",
   "nbconvert_exporter": "python",
   "pygments_lexer": "ipython3",
   "version": "3.11.5"
  }
 },
 "nbformat": 4,
 "nbformat_minor": 2
}
