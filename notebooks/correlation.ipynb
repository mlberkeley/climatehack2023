{
 "cells": [
  {
   "cell_type": "code",
   "execution_count": null,
   "metadata": {},
   "outputs": [],
   "source": [
    "import numpy as np\n",
    "import matplotlib.pyplot as plt\n",
    "from pathlib import Path\n",
    "import os"
   ]
  },
  {
   "cell_type": "code",
   "execution_count": null,
   "metadata": {},
   "outputs": [],
   "source": [
    "preds_dict = {}\n",
    "preds_dir = Path('../preds/')\n",
    "channels = sorted(['IR_087', 'IR_039', 'IR_016', 'VIS008', 'IR_120', 'VIS006', 'WV_073', 'IR_108', 'IR_134', 'WV_062', 'IR_097']) + ['gt', 'convnext']\n",
    "for ch in channels:\n",
    "    pred_file = preds_dir / f'{ch}.npy'\n",
    "    preds_dict[pred_file.stem] = np.load(pred_file)\n",
    "\n",
    "gt = np.load('../preds/gt.npy')\n",
    "\n",
    "preds_dict.keys()"
   ]
  },
  {
   "cell_type": "code",
   "execution_count": null,
   "metadata": {},
   "outputs": [],
   "source": [
    "# measure per-element error\n",
    "errors = {}\n",
    "for ch, pred in preds_dict.items():\n",
    "    errors[ch] = np.abs(pred - gt).mean(axis=1)\n",
    "\n",
    "errors.keys()"
   ]
  },
  {
   "cell_type": "code",
   "execution_count": null,
   "metadata": {},
   "outputs": [],
   "source": [
    "# calculate correlation matrix between channels\n",
    "n_channels = len(preds_dict)\n",
    "correlation_matrix = np.zeros((n_channels, n_channels))\n",
    "for i, (ch1, pred1) in enumerate(preds_dict.items()):\n",
    "    for j, (ch2, pred2) in enumerate(preds_dict.items()):\n",
    "        correlation_matrix[i, j] = np.corrcoef(pred1.flatten(), pred2.flatten())[0, 1]"
   ]
  },
  {
   "cell_type": "code",
   "execution_count": null,
   "metadata": {},
   "outputs": [],
   "source": [
    "from sklearn import datasets  \n",
    "\n",
    "matrix = correlation_matrix\n",
    "\n",
    "#plotting correlation matrix \n",
    "plt.imshow(matrix, cmap='Blues')\n",
    "\n",
    "#adding colorbar \n",
    "plt.colorbar()\n",
    "\n",
    "#extracting variable names \n",
    "variables = channels\n",
    "\n",
    "# Adding labels to the matrix\n",
    "plt.xticks(range(len(matrix)), variables, rotation=45, ha='right')\n",
    "plt.yticks(range(len(matrix)), variables)\n",
    "\n",
    "# Display the plot\n",
    "plt.show()"
   ]
  },
  {
   "cell_type": "code",
   "execution_count": null,
   "metadata": {},
   "outputs": [],
   "source": [
    "{k: v.mean() for k, v in errors.items()}"
   ]
  },
  {
   "cell_type": "code",
   "execution_count": null,
   "metadata": {},
   "outputs": [],
   "source": [
    "mean_pred = np.mean(list([preds_dict[k] for k in [\n",
    "    # 'IR_087', 'IR_039', 'IR_016', 'VIS008', 'IR_120', 'VIS006', 'WV_073', 'IR_108', 'IR_134', 'WV_062', 'IR_097'\n",
    "    'IR_016', 'VIS006', 'VIS008'\n",
    "]]), axis=0)\n",
    "mean_error = np.abs(mean_pred - gt).mean(axis=1)\n",
    "mean_error.mean()"
   ]
  },
  {
   "cell_type": "code",
   "execution_count": null,
   "metadata": {},
   "outputs": [],
   "source": [
    "error_img = np.vstack(list(errors.values()))\n",
    "s = error_img[0].argsort()\n",
    "error_img = error_img[:,s]\n",
    "plt.imsave('error_img.png', error_img, cmap='hot')"
   ]
  },
  {
   "cell_type": "code",
   "execution_count": null,
   "metadata": {},
   "outputs": [],
   "source": [
    "np.vstack([errors[k] for k in [\n",
    "    # 'IR_087', 'IR_039', 'IR_016', 'VIS008', 'IR_120', 'VIS006', 'WV_073', 'IR_108', 'IR_134', 'WV_062', 'IR_097'\n",
    "    'VIS006', 'VIS008'\n",
    "]]).min(axis=0).mean()"
   ]
  },
  {
   "cell_type": "code",
   "execution_count": null,
   "metadata": {},
   "outputs": [],
   "source": []
  }
 ],
 "metadata": {
  "kernelspec": {
   "display_name": "climatehack",
   "language": "python",
   "name": "python3"
  },
  "language_info": {
   "codemirror_mode": {
    "name": "ipython",
    "version": 3
   },
   "file_extension": ".py",
   "mimetype": "text/x-python",
   "name": "python",
   "nbconvert_exporter": "python",
   "pygments_lexer": "ipython3",
   "version": "3.11.5"
  }
 },
 "nbformat": 4,
 "nbformat_minor": 2
}
