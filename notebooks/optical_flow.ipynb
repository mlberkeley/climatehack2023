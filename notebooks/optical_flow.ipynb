{
 "cells": [
  {
   "cell_type": "code",
   "execution_count": null,
   "metadata": {},
   "outputs": [],
   "source": [
    "import sys\n",
    "sys.path.append('..')\n",
    "from datetime import datetime\n",
    "from data.random_data import ClimatehackDataset as Dataset\n",
    "from submission.keys import META as META_KEYS, WEATHER as WEATHER_KEYS, NONHRV as NONHRV_KEYS\n",
    "\n",
    "import cv2\n",
    "import numpy as np\n",
    "import matplotlib.pyplot as plt"
   ]
  },
  {
   "cell_type": "code",
   "execution_count": null,
   "metadata": {},
   "outputs": [],
   "source": [
    "ds = Dataset(\n",
    "    start_date=datetime(2020, 1, 1),\n",
    "    end_date=datetime(2020, 1, 2),\n",
    "    root_dir='/data/climatehack/',\n",
    "    meta_features=META_KEYS,\n",
    "    nonhrv_features=NONHRV_KEYS,\n",
    "    weather_features=WEATHER_KEYS,\n",
    "    future_features=[]\n",
    ")"
   ]
  },
  {
   "cell_type": "code",
   "execution_count": null,
   "metadata": {},
   "outputs": [],
   "source": [
    "i = np.random.randint(0, len(ds))\n",
    "pv, meta, imgs, weather, target = ds[i]\n",
    "imgs = imgs[NONHRV_KEYS.VIS006]\n",
    "a, b, c = imgs[0].numpy(), imgs[1].numpy(), imgs[11].numpy()\n",
    "flow = cv2.calcOpticalFlowFarneback(\n",
    "    prev=a,\n",
    "    next=b,\n",
    "    flow=None,\n",
    "    pyr_scale=0.5,\n",
    "    levels=2,\n",
    "    winsize=40,\n",
    "    iterations=3,\n",
    "    poly_n=5,\n",
    "    poly_sigma=0.7,\n",
    "    flags=cv2.OPTFLOW_FARNEBACK_GAUSSIAN\n",
    ")\n",
    "flow = -flow\n",
    "\n",
    "# x = (all_data[:INPUT_STEPS] - _MEAN_PIXEL) / _STD_PIXEL\n",
    "# y = all_data[INPUT_STEPS:]\n",
    "\n",
    "# flow_x = (flow[:, :, 0] - _MEAN_X_FLOW) / _STD_X_FLOW\n",
    "# flow_y = (flow[:, :, 1] - _MEAN_Y_FLOW) / _STD_Y_FLOW\n",
    "\n",
    "# flow_x = torch.FloatTensor(flow_x)\n",
    "# flow_y = torch.FloatTensor(flow_y)\n",
    "\n",
    "# x = torch.cat(\n",
    "#     [\n",
    "#         x,\n",
    "#         osgb_x.unsqueeze(0),\n",
    "#         osgb_y.unsqueeze(0),\n",
    "#         flow_x.unsqueeze(0),\n",
    "#         flow_y.unsqueeze(0),\n",
    "#     ],\n",
    "#     dim=0,\n",
    "# )\n",
    "# return x, y\n",
    "\n",
    "map = np.zeros_like(flow)\n",
    "for y in range(map.shape[0]):\n",
    "    for x in range(map.shape[1]):\n",
    "        f = 10 * flow[y, x]\n",
    "        map[y, x] = (x + f[0], y + f[1])\n",
    "\n",
    "out = cv2.remap(b, map, None, cv2.INTER_LINEAR)"
   ]
  },
  {
   "cell_type": "code",
   "execution_count": null,
   "metadata": {},
   "outputs": [],
   "source": [
    "f, ax = plt.subplots(1, 4, figsize=(20, 8))\n",
    "ax[0].imshow(a, cmap='gray')\n",
    "ax[1].imshow(b, cmap='gray')\n",
    "ax[2].imshow(c, cmap='gray')\n",
    "ax[3].imshow(out, cmap='gray')"
   ]
  },
  {
   "cell_type": "code",
   "execution_count": null,
   "metadata": {},
   "outputs": [],
   "source": []
  }
 ],
 "metadata": {
  "kernelspec": {
   "display_name": "climatehack",
   "language": "python",
   "name": "python3"
  },
  "language_info": {
   "codemirror_mode": {
    "name": "ipython",
    "version": 3
   },
   "file_extension": ".py",
   "mimetype": "text/x-python",
   "name": "python",
   "nbconvert_exporter": "python",
   "pygments_lexer": "ipython3",
   "version": "3.11.5"
  }
 },
 "nbformat": 4,
 "nbformat_minor": 2
}
