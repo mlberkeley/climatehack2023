{
 "cells": [
  {
   "cell_type": "markdown",
   "metadata": {},
   "source": [
    "# Baking PV\n",
    "\n",
    "Notebook I used to bake PV data into the hdf5 file, before realizing that I don't want to do that and just saved PV data as a pickle instead..\n",
    "(so this notebook is not used but I saved it anyways)"
   ]
  },
  {
   "cell_type": "code",
   "execution_count": null,
   "metadata": {},
   "outputs": [],
   "source": [
    "from datetime import datetime, time, timedelta\n",
    "from pathlib import Path\n",
    "import pandas as pd\n",
    "import xarray as xr\n",
    "from ocf_blosc2 import Blosc2\n",
    "import json\n",
    "import pickle\n",
    "import h5py\n",
    "from tqdm import tqdm\n",
    "import numpy as np"
   ]
  },
  {
   "cell_type": "code",
   "execution_count": null,
   "metadata": {},
   "outputs": [],
   "source": [
    "pv = pd.concat([\n",
    "    pd.read_parquet(f\"/data/climatehack/official_dataset/pv/{y}/{i}.parquet\").drop(\"generation_wh\", axis=1)\n",
    "    for y in (2020, 2021)\n",
    "    for i in range(1, 13)\n",
    "])"
   ]
  },
  {
   "cell_type": "code",
   "execution_count": null,
   "metadata": {},
   "outputs": [],
   "source": [
    "h5file = h5py.File(\"../data/data.h5\", \"a\")\n",
    "\n",
    "bake_index_old = h5file['bake_index'][:]"
   ]
  },
  {
   "cell_type": "code",
   "execution_count": null,
   "metadata": {},
   "outputs": [],
   "source": [
    "bake_index_dt = np.dtype([\n",
    "    ('time', np.int32),\n",
    "    ('site', np.int32),\n",
    "    ('nonhrv_flags', np.bool_, (11,)),\n",
    "    ('weather_flags', np.bool_, (38,)),\n",
    "    ('pv_features', np.float32, (12,)),\n",
    "    ('pv_target', np.float32, (48,)),\n",
    "], align=True)\n",
    "bake_index = np.zeros_like(bake_index_old, dtype=bake_index_dt)"
   ]
  },
  {
   "cell_type": "code",
   "execution_count": null,
   "metadata": {},
   "outputs": [],
   "source": [
    "((bake_index_old['time'][1:] - bake_index_old['time'][:-1]) >= 0).all()"
   ]
  },
  {
   "cell_type": "code",
   "execution_count": null,
   "metadata": {},
   "outputs": [],
   "source": [
    "old_ts = -1\n",
    "pv_features = None\n",
    "pv_targets = None\n",
    "for i, row in enumerate(tqdm(bake_index_old)):\n",
    "    if old_ts != row['time']:\n",
    "        old_ts = row['time']\n",
    "        time = datetime.fromtimestamp(row['time'])\n",
    "        pv_features = pv.xs(\n",
    "            slice(\n",
    "                str(time),\n",
    "                str(time + timedelta(minutes=55))\n",
    "            ),\n",
    "        )  # type: ignore\n",
    "        pv_targets = pv.xs(\n",
    "            slice(  # type: ignore\n",
    "                str(time + timedelta(hours=1)),\n",
    "                str(time + timedelta(hours=4, minutes=55)),\n",
    "            ),\n",
    "        )\n",
    "    site_features = pv_features.xs(row['site']).to_numpy().squeeze(-1)\n",
    "    site_targets = pv_targets.xs(row['site']).to_numpy().squeeze(-1)\n",
    "    bake_index[i] = (\n",
    "        row['time'],\n",
    "        row['site'],\n",
    "        row['nonhrv_flags'],\n",
    "        row['weather_flags'],\n",
    "        site_features,\n",
    "        site_targets\n",
    "    )"
   ]
  },
  {
   "cell_type": "code",
   "execution_count": null,
   "metadata": {},
   "outputs": [],
   "source": [
    "del h5file['bake_index']\n",
    "ds = h5file.create_dataset(\n",
    "        'bake_index',\n",
    "        shape=(len(bake_index),),\n",
    "        dtype=bake_index_dt,\n",
    "        chunks=(min(10000, len(bake_index)),),\n",
    ")\n",
    "ds[:] = bake_index"
   ]
  },
  {
   "cell_type": "code",
   "execution_count": null,
   "metadata": {},
   "outputs": [],
   "source": [
    "h5file.close()"
   ]
  },
  {
   "cell_type": "code",
   "execution_count": null,
   "metadata": {},
   "outputs": [],
   "source": []
  }
 ],
 "metadata": {
  "kernelspec": {
   "display_name": "climatehack",
   "language": "python",
   "name": "python3"
  },
  "language_info": {
   "codemirror_mode": {
    "name": "ipython",
    "version": 3
   },
   "file_extension": ".py",
   "mimetype": "text/x-python",
   "name": "python",
   "nbconvert_exporter": "python",
   "pygments_lexer": "ipython3",
   "version": "3.11.5"
  }
 },
 "nbformat": 4,
 "nbformat_minor": 2
}
