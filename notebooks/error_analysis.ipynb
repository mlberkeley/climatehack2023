{
 "cells": [
  {
   "cell_type": "code",
   "execution_count": null,
   "metadata": {},
   "outputs": [],
   "source": [
    "import sys\n",
    "sys.path.append('..')\n",
    "\n",
    "from config import get_config\n",
    "from data.random_data import get_dataloaders\n",
    "from submission.resnet import ResNetPV as Model\n",
    "from util import util\n",
    "import submission.keys as keys\n",
    "\n",
    "import numpy as np\n",
    "import torch\n",
    "import torch.nn as nn\n",
    "from datetime import datetime\n",
    "import matplotlib.pyplot as plt"
   ]
  },
  {
   "cell_type": "code",
   "execution_count": null,
   "metadata": {},
   "outputs": [],
   "source": [
    "config = get_config('../configs/resnet.yaml', [])\n",
    "ckpt_path = '../ckpts/resnext50_imstoopid.pt.best_ema'\n",
    "\n",
    "config.data.eval_subset_size = 50_000"
   ]
  },
  {
   "cell_type": "code",
   "execution_count": null,
   "metadata": {},
   "outputs": [],
   "source": [
    "device = torch.device(\"cuda\" if torch.cuda.is_available() else \"cpu\")\n",
    "\n",
    "model = Model(config.model.config).to(device)\n",
    "model.load_state_dict(torch.load(ckpt_path))\n",
    "model.eval()\n",
    "dataloader = get_dataloaders(\n",
    "    config=config,\n",
    "    meta_features=keys.META,\n",
    "    nonhrv_features=model.REQUIRED_NONHRV,\n",
    "    weather_features=model.REQUIRED_WEATHER,\n",
    "    future_features=None,\n",
    "    load_train=False,\n",
    ")"
   ]
  },
  {
   "cell_type": "code",
   "execution_count": null,
   "metadata": {},
   "outputs": [],
   "source": [
    "def eval(dataloader, model, criterion=nn.L1Loss()):\n",
    "    model.eval()\n",
    "\n",
    "    device = torch.device(\"cuda\" if torch.cuda.is_available() else \"cpu\")\n",
    "    tot_loss_4h, count = 0, 0\n",
    "\n",
    "    gt = np.zeros((len(dataloader.dataset), 48))\n",
    "    preds = np.zeros((len(dataloader.dataset), 48))\n",
    "    with torch.no_grad():\n",
    "        for i, (pv_features, meta, nonhrv, weather, pv_targets) in enumerate(dataloader):\n",
    "            meta, nonhrv, weather = util.dict_to_device(meta), util.dict_to_device(nonhrv), util.dict_to_device(weather)\n",
    "            pv_features = pv_features.to(device, dtype=torch.float)\n",
    "            pv_targets = pv_targets.to(device, dtype=torch.float)\n",
    "\n",
    "            predictions = model(pv_features, meta, nonhrv, weather)\n",
    "\n",
    "\n",
    "            loss_4h = criterion(predictions, pv_targets)\n",
    "            \n",
    "            gt[i * dataloader.batch_size: (i + 1) * dataloader.batch_size] = pv_targets.cpu().numpy()\n",
    "            preds[i * dataloader.batch_size: (i + 1) * dataloader.batch_size] = predictions.cpu().numpy()\n",
    "\n",
    "            size = int(pv_targets.size(0))\n",
    "            tot_loss_4h += float(loss_4h) * size\n",
    "            count += size\n",
    "\n",
    "    val_loss_4h = tot_loss_4h / count\n",
    "\n",
    "    return val_loss_4h, preds, gt"
   ]
  },
  {
   "cell_type": "code",
   "execution_count": null,
   "metadata": {},
   "outputs": [],
   "source": [
    "loss, preds, gt = eval(dataloader, model)\n",
    "loss"
   ]
  },
  {
   "cell_type": "code",
   "execution_count": null,
   "metadata": {},
   "outputs": [],
   "source": [
    "losses = np.abs(preds - gt).mean(axis=1)\n",
    "losses.shape"
   ]
  },
  {
   "cell_type": "code",
   "execution_count": null,
   "metadata": {},
   "outputs": [],
   "source": [
    "_ = plt.hist(losses, bins=100)"
   ]
  },
  {
   "cell_type": "markdown",
   "metadata": {},
   "source": [
    "# Time of day loss"
   ]
  },
  {
   "cell_type": "code",
   "execution_count": null,
   "metadata": {},
   "outputs": [],
   "source": [
    "tod_losses = np.zeros(24, dtype=float)\n",
    "tod_counts = np.zeros(24, dtype=int)\n",
    "for i, (_, meta, _, _, _) in enumerate(dataloader):\n",
    "    for j, key in enumerate(meta[keys.META.TIME]):\n",
    "        dtime = datetime.fromtimestamp(key)\n",
    "        tod_losses[dtime.hour] += losses[i * dataloader.batch_size + j]\n",
    "        tod_counts[dtime.hour] += 1\n",
    "\n",
    "tod_losses /= tod_counts\n",
    "# tod_losses[np.isnan(tod_losses)] = 0\n",
    "plt.plot(range(24), tod_losses)\n",
    "plt.title('Loss by Time of Day')"
   ]
  },
  {
   "cell_type": "code",
   "execution_count": null,
   "metadata": {},
   "outputs": [],
   "source": [
    "tod_losses = np.zeros(366, dtype=float)\n",
    "tod_counts = np.zeros(366, dtype=int)\n",
    "for i, (_, meta, _, _, _) in enumerate(dataloader):\n",
    "    for j, key in enumerate(meta[keys.META.TIME]):\n",
    "        dtime = datetime.fromtimestamp(key)\n",
    "        tod_losses[dtime.timetuple().tm_yday - 1] += losses[i * dataloader.batch_size + j]\n",
    "        tod_counts[dtime.timetuple().tm_yday - 1] += 1\n",
    "    # dtime = datetime.fromtimestamp(meta[keys.META.TIME]).timetuple().tm_yday - 1\n",
    "    # # times_of_day[dtime.hour] += losses[i]\n",
    "    # tod_losses[dtime] += losses[i]\n",
    "    # tod_counts[dtime] += 1\n",
    "\n",
    "tod_losses /= tod_counts\n",
    "# tod_losses[np.isnan(tod_losses)] = 0\n",
    "plt.plot(range(366), tod_losses)\n",
    "plt.title('Loss by Day of Year')"
   ]
  },
  {
   "cell_type": "markdown",
   "metadata": {},
   "source": [
    "# Example visualizers"
   ]
  },
  {
   "cell_type": "code",
   "execution_count": null,
   "metadata": {},
   "outputs": [],
   "source": [
    "i = np.random.randint(0, len(dataloader.dataset) // 10)\n",
    "worst_inds = np.argsort(losses)[::-1]\n",
    "ind = worst_inds[i]\n",
    "print(losses[ind])\n",
    "pv, meta, nonhrv, weather, targets = dataloader.dataset[ind]\n",
    "\n",
    "def to_np(a):\n",
    "    return a.detach().cpu().numpy()\n",
    "\n",
    "pv_feature = pv\n",
    "pv_target = targets\n",
    "pred = preds[ind]\n",
    "hrv_feature = to_np(nonhrv[keys.NONHRV.VIS008])\n",
    "\n",
    "fig, ax = plt.subplots()\n",
    "\n",
    "ax.plot(np.arange(0, 12), pv_feature, color='black', label=\"features\")\n",
    "ax.plot(np.arange(12, 60), pv_target, color='green', label=\"target\")\n",
    "ax.plot(np.arange(12, 60), pred, color='red', label=\"prediction\")\n",
    "ax.plot([11,12], [pv_feature[-1], pv_target[0]], color='black')\n",
    "\n",
    "ax.legend()\n",
    "plt.tight_layout()\n",
    "plt.show()\n",
    "\n",
    "plt.figure(figsize=(20, 10))\n",
    "plt.imshow(np.hstack(nonhrv[keys.NONHRV.VIS008]))\n",
    "plt.axis('off')\n",
    "plt.tight_layout()\n",
    "plt.show()"
   ]
  },
  {
   "cell_type": "code",
   "execution_count": null,
   "metadata": {},
   "outputs": [],
   "source": []
  }
 ],
 "metadata": {
  "kernelspec": {
   "display_name": "climatehack",
   "language": "python",
   "name": "python3"
  },
  "language_info": {
   "codemirror_mode": {
    "name": "ipython",
    "version": 3
   },
   "file_extension": ".py",
   "mimetype": "text/x-python",
   "name": "python",
   "nbconvert_exporter": "python",
   "pygments_lexer": "ipython3",
   "version": "3.11.5"
  }
 },
 "nbformat": 4,
 "nbformat_minor": 2
}
