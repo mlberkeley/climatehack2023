{
 "cells": [
  {
   "cell_type": "code",
   "execution_count": null,
   "metadata": {},
   "outputs": [],
   "source": [
    "import sys\n",
    "sys.path.append('..')\n",
    "\n",
    "import datetime\n",
    "import json\n",
    "import h5py\n",
    "import matplotlib.pyplot as plt\n",
    "import numpy as np\n",
    "import pandas as pd\n",
    "import xarray as xr\n",
    "\n",
    "from ocf_blosc2 import Blosc2\n",
    "\n",
    "from util.sunincidence import *"
   ]
  },
  {
   "cell_type": "code",
   "execution_count": null,
   "metadata": {},
   "outputs": [],
   "source": [
    "file = h5py.File('/data/climatehack/baked_data.h5', 'r')\n",
    "file.keys()\n",
    "\n",
    "with open(\"indices.json\") as f:\n",
    "    site_locations = {\n",
    "        data_source: {\n",
    "            int(site): (int(location[0]), int(location[1]))\n",
    "            for site, location in locations.items()\n",
    "        } for data_source, locations in json.load(f).items()\n",
    "    }\n",
    "\n",
    "pv = pd.read_pickle(f\"/data/climatehack/pv.pkl\")\n",
    "df = pd.read_csv('/data/climatehack/official_dataset/pv/meta.csv')\n",
    "df"
   ]
  },
  {
   "cell_type": "code",
   "execution_count": null,
   "metadata": {},
   "outputs": [],
   "source": [
    "def show_nonhrv_vis_video_of_site(day: datetime.date, site_id, channel='VIS006'):\n",
    "    nonhrv = xr.open_dataset(\n",
    "        f\"/data/climatehack/official_dataset/nonhrv/{day.year}/{day.month}.zarr.zip\",\n",
    "        engine=\"zarr\",\n",
    "        consolidated=True,\n",
    "    )\n",
    "    x, y = site_locations['nonhrv'][site_id]\n",
    "    out = np.zeros((24 * 12, 128, 128))\n",
    "    for hour in range(24):\n",
    "        for i in range(12):\n",
    "            try:\n",
    "                d = nonhrv[\"data\"].sel(time=datetime.datetime.combine(day, datetime.time(hour=hour, minute=5*i)), channel=channel)\n",
    "                # out = d[:, y-64:y+64, x-64:x+64]\n",
    "                out[12 * hour + i] = d[y-64:y+64, x-64:x+64]\n",
    "            except KeyError:\n",
    "                # print(f\"Missing {datetime.datetime.combine(day, datetime.time(hour=hour, minute=5*i))}\")\n",
    "                pass\n",
    "\n",
    "    plt.figure(figsize=(20, 4))\n",
    "    plt.imshow(np.hstack(out[::12]), cmap='gray')\n",
    "    plt.axis('off')\n",
    "    plt.tight_layout()\n",
    "\n",
    "show_nonhrv_vis_video_of_site(datetime.date(2021, 4, 3), 2607)"
   ]
  },
  {
   "cell_type": "code",
   "execution_count": null,
   "metadata": {},
   "outputs": [],
   "source": [
    "BI = file['bake_index']\n",
    "# i = np.random.randint(0, len(BI))\n",
    "i = 3806474\n",
    "siteid, tstamp = BI[i]['site'], BI[i]['time']\n",
    "dt = datetime.datetime.utcfromtimestamp(tstamp)\n",
    "siteinfo = df[df['ss_id'] == siteid].iloc[0]\n",
    "x, y = site_locations['nonhrv'][siteid]\n",
    "\n",
    "proj = siteinfo2projectdata(siteinfo.latitude_rounded, siteinfo.longitude_rounded, siteinfo.orientation, siteinfo.tilt)\n",
    "\n",
    "print(dt.date(), proj)\n",
    "pv_data = pv.xs(slice(\n",
    "    str(dt.date()),\n",
    "    str(dt.date()),\n",
    ")).xs(siteid).to_numpy().squeeze()\n",
    "\n",
    "day_plot_with_pv(dt.date(), proj, pv_data)\n",
    "show_nonhrv_vis_video_of_site(dt.date(), siteid)"
   ]
  },
  {
   "cell_type": "code",
   "execution_count": null,
   "metadata": {},
   "outputs": [],
   "source": [
    "siteinfo"
   ]
  },
  {
   "cell_type": "code",
   "execution_count": null,
   "metadata": {},
   "outputs": [],
   "source": [
    "# find nearest solar panels to a given location based on latitude and longitude\n",
    "def nearest_solar_panels(lat, lon, n=5):\n",
    "    df['dist'] = np.sqrt((df['latitude_rounded'] - lat)**2 + (df['longitude_rounded'] - lon)**2)\n",
    "    return df.sort_values('dist').head(n)\n",
    "\n",
    "nearest_solar_panels(51.62, -4.03)"
   ]
  },
  {
   "cell_type": "code",
   "execution_count": null,
   "metadata": {},
   "outputs": [],
   "source": [
    "BI = file['bake_index']\n",
    "i = np.random.randint(0, len(BI))\n",
    "siteid, tstamp = BI[i]['site'], BI[i]['time']\n",
    "dt = datetime.datetime.utcfromtimestamp(tstamp)\n",
    "siteinfo = df[df['ss_id'] == siteid].iloc[0]\n",
    "x, y = site_locations['nonhrv'][siteid]\n",
    "\n",
    "proj = siteinfo2projectdata(siteinfo.latitude_rounded, siteinfo.longitude_rounded, siteinfo.orientation, siteinfo.tilt)\n",
    "\n",
    "print(dt.date(), proj)\n",
    "pv_data = pv.xs(slice(\n",
    "    str(dt.date()),\n",
    "    str(dt.date()),\n",
    ")).xs(siteid).to_numpy().squeeze()\n",
    "\n",
    "day_plot_with_pv(dt.date(), proj, pv_data)\n",
    "show_nonhrv_vis_video_of_site(dt.date(), siteid)"
   ]
  },
  {
   "cell_type": "code",
   "execution_count": null,
   "metadata": {},
   "outputs": [],
   "source": []
  },
  {
   "cell_type": "code",
   "execution_count": null,
   "metadata": {},
   "outputs": [],
   "source": []
  },
  {
   "cell_type": "code",
   "execution_count": null,
   "metadata": {},
   "outputs": [],
   "source": []
  },
  {
   "cell_type": "code",
   "execution_count": null,
   "metadata": {},
   "outputs": [],
   "source": []
  },
  {
   "cell_type": "code",
   "execution_count": null,
   "metadata": {},
   "outputs": [],
   "source": []
  },
  {
   "cell_type": "markdown",
   "metadata": {},
   "source": [
    "## My attempts to make it vectorized"
   ]
  },
  {
   "cell_type": "code",
   "execution_count": null,
   "metadata": {},
   "outputs": [],
   "source": [
    "start_tstamp = datetime.datetime.strptime(p_start, \"%Y-%m-%dT%H:%M\").timestamp()\n",
    "tstamps = np.array([start_tstamp + 5 * 60 * x for x in range(0, 256)])"
   ]
  },
  {
   "cell_type": "code",
   "execution_count": null,
   "metadata": {},
   "outputs": [],
   "source": [
    "%%timeit\n",
    "angles = np.zeros(len(tstamps))\n",
    "for i, t in enumerate(tstamps):\n",
    "    angles[i] = getSolarPosition(t, p_latitude_dd, p_longitude_dd, p_elevation_m, p_azimuth_deg, p_tilt_deg, p_zenith_filter, p_zenith_limit)['IncidentAngle']"
   ]
  },
  {
   "cell_type": "code",
   "execution_count": null,
   "metadata": {},
   "outputs": [],
   "source": [
    "def getSolarPosition(t, lat, long, elev, azimuth, tilt):\n",
    "\n",
    "\t# Get solar position from lat/lng, elevation and datetime\n",
    "\tphi, theta_h, rasc, d, h = sunpos(t, lat, long, elev).T[:5]\n",
    "\t\n",
    "\t# Calculate tilt angle from vertical\n",
    "\teta = 90 - tilt\n",
    "\t\n",
    "\t# Calculate surface-solar azimuth angle\n",
    "\tgamma = np.abs((phi - azimuth))\n",
    "\n",
    "\t# Calculate altitude angle\n",
    "\tbeta = 90.0 - theta_h\n",
    "\t\n",
    "\t# Calculate incident angle to surface\n",
    "\ttheta = np.rad2deg(np.arccos(\n",
    "\t\tnp.cos(np.deg2rad(beta)) * np.cos(np.deg2rad(gamma)) * np.sin(np.deg2rad(eta))\n",
    "\t) + (\n",
    "\t\tnp.sin(np.deg2rad(beta)) * np.cos(np.deg2rad(eta))\n",
    "\t))\n",
    "\t\n",
    "\t# Solar position datum\n",
    "\t# sp_datum = {\n",
    "\t# \t'Datetime_UTC': t,\n",
    "\t# \t'Azimuth': phi,\n",
    "\t# \t'Zenith': theta_h,\n",
    "\t# \t'RightAscension': rasc,\n",
    "\t# \t'Declination': d,\n",
    "\t# \t'HourAngle': h,\n",
    "\t# \t'IncidentAngle': theta\n",
    "\t# }\n",
    "\t\n",
    "\treturn theta # sp_datum"
   ]
  },
  {
   "cell_type": "code",
   "execution_count": null,
   "metadata": {},
   "outputs": [],
   "source": [
    "%%timeit\n",
    "angles2 = getSolarPosition(tstamps, p_latitude_dd, p_longitude_dd, p_elevation_m, p_azimuth_deg, p_tilt_deg) # ['IncidentAngle']"
   ]
  },
  {
   "cell_type": "code",
   "execution_count": null,
   "metadata": {},
   "outputs": [],
   "source": [
    "plt.plot(angles)\n",
    "plt.plot(angles2)"
   ]
  },
  {
   "cell_type": "code",
   "execution_count": null,
   "metadata": {},
   "outputs": [],
   "source": []
  }
 ],
 "metadata": {
  "kernelspec": {
   "display_name": "climatehack",
   "language": "python",
   "name": "python3"
  },
  "language_info": {
   "codemirror_mode": {
    "name": "ipython",
    "version": 3
   },
   "file_extension": ".py",
   "mimetype": "text/x-python",
   "name": "python",
   "nbconvert_exporter": "python",
   "pygments_lexer": "ipython3",
   "version": "3.11.5"
  }
 },
 "nbformat": 4,
 "nbformat_minor": 2
}
